{
  "nbformat": 4,
  "nbformat_minor": 0,
  "metadata": {
    "colab": {
      "name": "Class_imbalance_experiments.ipynb",
      "provenance": [],
      "collapsed_sections": [],
      "authorship_tag": "ABX9TyPbWuR2Xn8F0WXXdfonMdtK",
      "include_colab_link": true
    },
    "kernelspec": {
      "name": "python3",
      "display_name": "Python 3"
    },
    "accelerator": "TPU"
  },
  "cells": [
    {
      "cell_type": "markdown",
      "metadata": {
        "id": "view-in-github",
        "colab_type": "text"
      },
      "source": [
        "<a href=\"https://colab.research.google.com/github/RobbertVKH/UvA_Bigdata_VanKortenhof/blob/master/Big_Data_Class_imbalance_experiments.ipynb\" target=\"_parent\"><img src=\"https://colab.research.google.com/assets/colab-badge.svg\" alt=\"Open In Colab\"/></a>"
      ]
    },
    {
      "cell_type": "code",
      "metadata": {
        "id": "-LRqe0RlDd6L",
        "colab_type": "code",
        "outputId": "7804c3f6-1f38-4661-99aa-831f98783825",
        "colab": {
          "base_uri": "https://localhost:8080/",
          "height": 128
        }
      },
      "source": [
        "import pandas as pd\n",
        "import matplotlib.pyplot as plt\n",
        "from matplotlib import pyplot\n",
        "import matplotlib\n",
        "from sklearn import datasets\n",
        "from sklearn.datasets import make_classification\n",
        "from sklearn import svm\n",
        "from sklearn import metrics\n",
        "from sklearn.metrics import  confusion_matrix\n",
        "from sklearn.model_selection import train_test_split\n",
        "import numpy as np\n",
        "from imblearn.over_sampling import BorderlineSMOTE\n",
        "from collections import Counter\n",
        "\n",
        "pip install ipython-autotime\n",
        "%load_ext autotime\n"
      ],
      "execution_count": 0,
      "outputs": [
        {
          "output_type": "error",
          "ename": "SyntaxError",
          "evalue": "ignored",
          "traceback": [
            "\u001b[0;36m  File \u001b[0;32m\"<ipython-input-1-70708d586016>\"\u001b[0;36m, line \u001b[0;32m15\u001b[0m\n\u001b[0;31m    pip install ipython-autotime\u001b[0m\n\u001b[0m              ^\u001b[0m\n\u001b[0;31mSyntaxError\u001b[0m\u001b[0;31m:\u001b[0m invalid syntax\n"
          ]
        }
      ]
    },
    {
      "cell_type": "code",
      "metadata": {
        "id": "DNIGOoajRjBW",
        "colab_type": "code",
        "outputId": "bdf01f9d-a44b-4b0f-d500-c83a13d8ebf6",
        "colab": {
          "base_uri": "https://localhost:8080/",
          "height": 34
        }
      },
      "source": [
        "fiftyto1_x, fiftyto1_y = make_classification(n_samples = 100000, n_features=2, n_informative=2,n_redundant=0,n_repeated=0, n_classes=2, n_clusters_per_class=1, weights=[0.98,0.02], hypercube=True)"
      ],
      "execution_count": 0,
      "outputs": [
        {
          "output_type": "stream",
          "text": [
            "time: 67.3 ms\n"
          ],
          "name": "stdout"
        }
      ]
    },
    {
      "cell_type": "code",
      "metadata": {
        "id": "HP7WmRAIlgJg",
        "colab_type": "code",
        "outputId": "80c31a89-6c7a-4605-b5fb-2c1f3dcbba7e",
        "colab": {
          "base_uri": "https://localhost:8080/",
          "height": 34
        }
      },
      "source": [
        "hundredto1_x, hundredto1_y = make_classification(n_samples = 100000, n_features=2, n_informative=2,n_redundant=0,n_repeated=0, n_classes=2, n_clusters_per_class=1, weights=[0.99,0.01], hypercube=True)"
      ],
      "execution_count": 0,
      "outputs": [
        {
          "output_type": "stream",
          "text": [
            "time: 61 ms\n"
          ],
          "name": "stdout"
        }
      ]
    },
    {
      "cell_type": "code",
      "metadata": {
        "id": "ao12Cp-6mfJf",
        "colab_type": "code",
        "outputId": "112db004-4c6b-40ff-9a1e-e29e5d41946a",
        "colab": {
          "base_uri": "https://localhost:8080/",
          "height": 34
        }
      },
      "source": [
        "thousandto1_x, thousandto1_y = make_classification(n_samples = 100000, n_features=2, n_informative=2,n_redundant=0,n_repeated=0, n_classes=2, n_clusters_per_class=1, weights=[0.999,0.001], hypercube=True)"
      ],
      "execution_count": 0,
      "outputs": [
        {
          "output_type": "stream",
          "text": [
            "time: 43.3 ms\n"
          ],
          "name": "stdout"
        }
      ]
    },
    {
      "cell_type": "markdown",
      "metadata": {
        "id": "HaD64iLSBRPP",
        "colab_type": "text"
      },
      "source": [
        ""
      ]
    },
    {
      "cell_type": "markdown",
      "metadata": {
        "id": "v6W15itxBQ1P",
        "colab_type": "text"
      },
      "source": [
        ""
      ]
    },
    {
      "cell_type": "code",
      "metadata": {
        "id": "jwSSe6BgnpqM",
        "colab_type": "code",
        "colab": {}
      },
      "source": [
        ""
      ],
      "execution_count": 0,
      "outputs": []
    },
    {
      "cell_type": "code",
      "metadata": {
        "id": "8qdrfWL-paj4",
        "colab_type": "code",
        "outputId": "0151222b-5ba3-4676-e467-69884720eed5",
        "colab": {
          "base_uri": "https://localhost:8080/",
          "height": 326
        }
      },
      "source": [
        "plt.subplot()\n",
        "colors1 = ['orange','blue']\n",
        "plt.title(\"High-class imbalance data scenario 1: 50:1\", fontsize='small')\n",
        "plt.xlabel(\"Feature 1\")\n",
        "plt.ylabel(\"Feature 2\")\n",
        "plt.scatter(fiftyto1_x[:,0], fiftyto1_x[:,1], marker = 'o', c = fiftyto1_y, cmap=matplotlib.colors.ListedColormap(colors1))\n"
      ],
      "execution_count": 0,
      "outputs": [
        {
          "output_type": "execute_result",
          "data": {
            "text/plain": [
              "<matplotlib.collections.PathCollection at 0x7f0fcbb48860>"
            ]
          },
          "metadata": {
            "tags": []
          },
          "execution_count": 7
        },
        {
          "output_type": "display_data",
          "data": {
            "image/png": "[encoded data removed]",
            "text/plain": [
              "<Figure size 432x288 with 1 Axes>"
            ]
          },
          "metadata": {
            "tags": []
          }
        },
        {
          "output_type": "stream",
          "text": [
            "time: 4.17 s\n"
          ],
          "name": "stdout"
        }
      ]
    },
    {
      "cell_type": "code",
      "metadata": {
        "id": "UQh8LCT112Pu",
        "colab_type": "code",
        "outputId": "0e0c0fc7-629d-40f8-e981-2520a6b81c22",
        "colab": {
          "base_uri": "https://localhost:8080/",
          "height": 326
        }
      },
      "source": [
        "plt.subplot()\n",
        "colors1 = ['orange','blue']\n",
        "plt.title(\"High-class imbalance data scenario 2: 100:1\", fontsize='small')\n",
        "plt.xlabel(\"Feature 1\")\n",
        "plt.ylabel(\"Feature 2\")\n",
        "plt.scatter(hundredto1_x[:,0], hundredto1_x[:,1], marker = 'o', c = hundredto1_y, cmap=matplotlib.colors.ListedColormap(colors1))\n"
      ],
      "execution_count": 0,
      "outputs": [
        {
          "output_type": "execute_result",
          "data": {
            "text/plain": [
              "<matplotlib.collections.PathCollection at 0x7f0fcb691ef0>"
            ]
          },
          "metadata": {
            "tags": []
          },
          "execution_count": 8
        },
        {
          "output_type": "display_data",
          "data": {
            "image/png": "[encoded data removed]",
            "text/plain": [
              "<Figure size 432x288 with 1 Axes>"
            ]
          },
          "metadata": {
            "tags": []
          }
        },
        {
          "output_type": "stream",
          "text": [
            "time: 4.13 s\n"
          ],
          "name": "stdout"
        }
      ]
    },
    {
      "cell_type": "code",
      "metadata": {
        "id": "TRuYS8do8aKj",
        "colab_type": "code",
        "outputId": "3cb0bb49-3d00-4c3d-a46b-3bb5016fa975",
        "colab": {
          "base_uri": "https://localhost:8080/",
          "height": 326
        }
      },
      "source": [
        "plt.subplot()\n",
        "colors1 = ['orange','blue']\n",
        "plt.title(\"High-class imbalance data scenario 3: 1000:1\", fontsize='small')\n",
        "plt.xlabel(\"Feature 1\")\n",
        "plt.ylabel(\"Feature 2\")\n",
        "plt.scatter(thousandto1_x[:,0], thousandto1_x[:,1], marker = 'o', c = thousandto1_y, cmap=matplotlib.colors.ListedColormap(colors1))\n"
      ],
      "execution_count": 0,
      "outputs": [
        {
          "output_type": "execute_result",
          "data": {
            "text/plain": [
              "<matplotlib.collections.PathCollection at 0x7f0fcb5fe588>"
            ]
          },
          "metadata": {
            "tags": []
          },
          "execution_count": 9
        },
        {
          "output_type": "display_data",
          "data": {
            "image/png": "[encoded data removed]",
            "text/plain": [
              "<Figure size 432x288 with 1 Axes>"
            ]
          },
          "metadata": {
            "tags": []
          }
        },
        {
          "output_type": "stream",
          "text": [
            "time: 4.03 s\n"
          ],
          "name": "stdout"
        }
      ]
    },
    {
      "cell_type": "code",
      "metadata": {
        "id": "4hl3a5krzKuk",
        "colab_type": "code",
        "outputId": "39c46fb5-370a-4f19-94e9-45357dc4e30b",
        "colab": {
          "base_uri": "https://localhost:8080/",
          "height": 34
        }
      },
      "source": [
        "# Splitting the data \n",
        "X_50_train, X_50_test, Y_50_train, Y_50_test = train_test_split(fiftyto1_x, fiftyto1_y, test_size = 0.2)\n",
        "X_100_train, X_100_test, Y_100_train, Y_100_test = train_test_split(hundredto1_x, hundredto1_y, test_size = 0.2)\n",
        "X_1000_train, X_1000_test, Y_1000_train, Y_1000_test = train_test_split(thousandto1_x, thousandto1_y, test_size = 0.2)"
      ],
      "execution_count": 0,
      "outputs": [
        {
          "output_type": "stream",
          "text": [
            "time: 41.7 ms\n"
          ],
          "name": "stdout"
        }
      ]
    },
    {
      "cell_type": "code",
      "metadata": {
        "id": "EjVnG8SKDHC7",
        "colab_type": "code",
        "outputId": "cf8ad231-ed92-40f6-a1aa-5958ab98dce0",
        "colab": {
          "base_uri": "https://localhost:8080/",
          "height": 34
        }
      },
      "source": [
        "# Creating simple 'bottomline' SVM classifiers\n",
        "svm_50 = svm.SVC(kernel = 'linear')\n",
        "svm_100 = svm.SVC(kernel= 'linear')\n",
        "svm_1000 = svm.SVC(kernel = 'linear')"
      ],
      "execution_count": 0,
      "outputs": [
        {
          "output_type": "stream",
          "text": [
            "time: 2.41 ms\n"
          ],
          "name": "stdout"
        }
      ]
    },
    {
      "cell_type": "code",
      "metadata": {
        "id": "20DSk-_hDVNC",
        "colab_type": "code",
        "outputId": "e6ea63e6-9299-4ecb-afd9-4e9b8048046c",
        "colab": {
          "base_uri": "https://localhost:8080/",
          "height": 85
        }
      },
      "source": [
        "# Fitting SVM to the training data\n",
        "svm_50.fit(X_50_train, Y_50_train)\n",
        "svm_100.fit(X_100_train, Y_100_train)\n",
        "svm_1000.fit(X_1000_train, Y_1000_train)"
      ],
      "execution_count": 0,
      "outputs": [
        {
          "output_type": "execute_result",
          "data": {
            "text/plain": [
              "SVC(C=1.0, break_ties=False, cache_size=200, class_weight=None, coef0=0.0,\n",
              "    decision_function_shape='ovr', degree=3, gamma='scale', kernel='linear',\n",
              "    max_iter=-1, probability=False, random_state=None, shrinking=True,\n",
              "    tol=0.001, verbose=False)"
            ]
          },
          "metadata": {
            "tags": []
          },
          "execution_count": 12
        },
        {
          "output_type": "stream",
          "text": [
            "time: 1min 1s\n"
          ],
          "name": "stdout"
        }
      ]
    },
    {
      "cell_type": "code",
      "metadata": {
        "id": "iJumaJ1PDl3c",
        "colab_type": "code",
        "outputId": "921aa04a-25ee-4011-85c6-e571d0fe1688",
        "colab": {
          "base_uri": "https://localhost:8080/",
          "height": 34
        }
      },
      "source": [
        "# Predicting SVMs based on testing data\n",
        "Y_50_predict = svm_50.predict(X_50_test)\n",
        "Y_100_predict = svm_100.predict(X_100_test)\n",
        "Y_1000_predict = svm_1000.predict(X_1000_test)"
      ],
      "execution_count": 0,
      "outputs": [
        {
          "output_type": "stream",
          "text": [
            "time: 822 ms\n"
          ],
          "name": "stdout"
        }
      ]
    },
    {
      "cell_type": "code",
      "metadata": {
        "id": "3wqbn0xGF16Y",
        "colab_type": "code",
        "outputId": "e55c46a6-12da-4f2a-8a0b-862ce4ce6f61",
        "colab": {
          "base_uri": "https://localhost:8080/",
          "height": 136
        }
      },
      "source": [
        "# Comparing predict with test \n",
        "print(\"Balanced accuracy of 50:1 model is\", metrics.balanced_accuracy_score(Y_50_test, Y_50_predict))\n",
        "print(\"F-score of 50:1 model is\", metrics.f1_score(Y_50_test, Y_50_predict))\n",
        "\n",
        "print(\"Balanced accuracy of 100:1 model is\", metrics.balanced_accuracy_score(Y_100_test, Y_100_predict))\n",
        "print(\"F-score of 100:1 model is\", metrics.f1_score(Y_100_test, Y_100_predict))\n",
        "\n",
        "print(\"Balanced accuracy of 1000:1 model is\", metrics.balanced_accuracy_score(Y_1000_test, Y_1000_predict))\n",
        "print(\"F-score of 1000:1 model is\", metrics.f1_score(Y_1000_test, Y_1000_predict))"
      ],
      "execution_count": 0,
      "outputs": [
        {
          "output_type": "stream",
          "text": [
            "Balanced accuracy of 50:1 model is 0.6590863291160287\n",
            "F-score of 50:1 model is 0.48136645962732927\n",
            "Balanced accuracy of 100:1 model is 0.8493788819875776\n",
            "F-score of 100:1 model is 0.8226691042047533\n",
            "Balanced accuracy of 1000:1 model is 0.5512820512820513\n",
            "F-score of 1000:1 model is 0.18604651162790695\n",
            "time: 93 ms\n"
          ],
          "name": "stdout"
        }
      ]
    },
    {
      "cell_type": "code",
      "metadata": {
        "id": "HyHtAgnBUjDK",
        "colab_type": "code",
        "outputId": "bdd0b2a5-a6be-423d-fa2e-f06a936fb8d4",
        "colab": {
          "base_uri": "https://localhost:8080/",
          "height": 34
        }
      },
      "source": [
        "# Creating cost-sensitive SVM classifiers\n",
        "cs_svm_50 = svm.SVC(kernel = 'linear', class_weight = 'balanced', C = 5)\n",
        "cs_svm_100 = svm.SVC(kernel= 'linear', class_weight = 'balanced', C = 5)\n",
        "cs_svm_1000 = svm.SVC(kernel = 'linear', class_weight = 'balanced', C = 5)"
      ],
      "execution_count": 0,
      "outputs": [
        {
          "output_type": "stream",
          "text": [
            "time: 2.43 ms\n"
          ],
          "name": "stdout"
        }
      ]
    },
    {
      "cell_type": "code",
      "metadata": {
        "id": "R1Z1D4NlmrJv",
        "colab_type": "code",
        "outputId": "7da7f4e5-08e5-4add-841f-1861460667de",
        "colab": {
          "base_uri": "https://localhost:8080/",
          "height": 85
        }
      },
      "source": [
        "# Fitting cost-sensitive SVM classifiers\n",
        "cs_svm_50.fit(X_50_train, Y_50_train)\n",
        "cs_svm_100.fit(X_100_train, Y_100_train)\n",
        "cs_svm_1000.fit(X_1000_train, Y_1000_train)"
      ],
      "execution_count": 0,
      "outputs": [
        {
          "output_type": "execute_result",
          "data": {
            "text/plain": [
              "SVC(C=5, break_ties=False, cache_size=200, class_weight='balanced', coef0=0.0,\n",
              "    decision_function_shape='ovr', degree=3, gamma='scale', kernel='linear',\n",
              "    max_iter=-1, probability=False, random_state=None, shrinking=True,\n",
              "    tol=0.001, verbose=False)"
            ]
          },
          "metadata": {
            "tags": []
          },
          "execution_count": 16
        },
        {
          "output_type": "stream",
          "text": [
            "time: 8min 42s\n"
          ],
          "name": "stdout"
        }
      ]
    },
    {
      "cell_type": "code",
      "metadata": {
        "id": "qoAZhxL-oTJB",
        "colab_type": "code",
        "outputId": "fd93d77f-0f65-4dc1-a8c0-8a4495fe6465",
        "colab": {
          "base_uri": "https://localhost:8080/",
          "height": 34
        }
      },
      "source": [
        "# Predicting cost-sensitive SVM classifiers \n",
        "cs_Y_50_predict = cs_svm_50.predict(X_50_test)\n",
        "cs_Y_100_predict = cs_svm_100.predict(X_100_test)\n",
        "cs_Y_1000_predict = cs_svm_1000.predict(X_1000_test)"
      ],
      "execution_count": 0,
      "outputs": [
        {
          "output_type": "stream",
          "text": [
            "time: 21.5 s\n"
          ],
          "name": "stdout"
        }
      ]
    },
    {
      "cell_type": "code",
      "metadata": {
        "id": "4ZNf207Wqyhf",
        "colab_type": "code",
        "outputId": "f5f0e003-9990-45ac-c603-5ba89b1623be",
        "colab": {
          "base_uri": "https://localhost:8080/",
          "height": 136
        }
      },
      "source": [
        "# Comparing cs predict with test \n",
        "print(\"Balanced accuracy of 50:1 cost sensitive model is\", metrics.balanced_accuracy_score(Y_50_test, cs_Y_50_predict))\n",
        "print(\"F-score of 50:1 cost sensitive model is\", metrics.f1_score(Y_50_test, cs_Y_50_predict))\n",
        "print(\"Balanced accuracy of 100:1 cost sensitive model is\", metrics.balanced_accuracy_score(Y_100_test, cs_Y_100_predict))\n",
        "print(\"F-score of 100:1 cost sensitive model is\", metrics.f1_score(Y_100_test, cs_Y_100_predict))\n",
        "print(\"Balanced accuracy of 1000:1 cost sensitive model is\", metrics.balanced_accuracy_score(Y_1000_test, cs_Y_1000_predict))\n",
        "print(\"F-score of 1000:1 cost sensitive model is\", metrics.f1_score(Y_1000_test, cs_Y_1000_predict))"
      ],
      "execution_count": 0,
      "outputs": [
        {
          "output_type": "stream",
          "text": [
            "Balanced accuracy of 50:1 cost sensitive model is 0.8166260138689196\n",
            "F-score of 50:1 cost sensitive model is 0.1670077773229636\n",
            "Balanced accuracy of 100:1 cost sensitive model is 0.8493788819875776\n",
            "F-score of 100:1 cost sensitive model is 0.8226691042047533\n",
            "Balanced accuracy of 1000:1 cost sensitive model is 0.5598290598290598\n",
            "F-score of 1000:1 cost sensitive model is 0.21374045801526717\n",
            "time: 87.7 ms\n"
          ],
          "name": "stdout"
        }
      ]
    },
    {
      "cell_type": "code",
      "metadata": {
        "id": "PsQkHbWdrfHz",
        "colab_type": "code",
        "outputId": "43181f6a-34b5-4da6-e8cb-fbefa32f5586",
        "colab": {
          "base_uri": "https://localhost:8080/",
          "height": 340
        }
      },
      "source": [
        "# Applying BorderlineSMOTE to datasets\n",
        "\n",
        "oversample = BorderlineSMOTE()\n",
        "fiftyto_1xSMOTE, fiftyto_1ySMOTE = oversample.fit_resample(fiftyto1_x, fiftyto1_y)\n",
        "hundredto_1xSMOTE, hundredto_1ySMOTE = oversample.fit_resample(hundredto1_x, hundredto1_y)\n",
        "thousandto_1xSMOTE, thousandto_1ySMOTE = oversample.fit_resample(thousandto1_x, thousandto1_y)"
      ],
      "execution_count": 0,
      "outputs": [
        {
          "output_type": "stream",
          "text": [
            "/usr/local/lib/python3.6/dist-packages/sklearn/utils/deprecation.py:87: FutureWarning: Function safe_indexing is deprecated; safe_indexing is deprecated in version 0.22 and will be removed in version 0.24.\n",
            "  warnings.warn(msg, category=FutureWarning)\n",
            "/usr/local/lib/python3.6/dist-packages/sklearn/utils/deprecation.py:87: FutureWarning: Function safe_indexing is deprecated; safe_indexing is deprecated in version 0.22 and will be removed in version 0.24.\n",
            "  warnings.warn(msg, category=FutureWarning)\n",
            "/usr/local/lib/python3.6/dist-packages/sklearn/utils/deprecation.py:87: FutureWarning: Function safe_indexing is deprecated; safe_indexing is deprecated in version 0.22 and will be removed in version 0.24.\n",
            "  warnings.warn(msg, category=FutureWarning)\n",
            "/usr/local/lib/python3.6/dist-packages/sklearn/utils/deprecation.py:87: FutureWarning: Function safe_indexing is deprecated; safe_indexing is deprecated in version 0.22 and will be removed in version 0.24.\n",
            "  warnings.warn(msg, category=FutureWarning)\n",
            "/usr/local/lib/python3.6/dist-packages/sklearn/utils/deprecation.py:87: FutureWarning: Function safe_indexing is deprecated; safe_indexing is deprecated in version 0.22 and will be removed in version 0.24.\n",
            "  warnings.warn(msg, category=FutureWarning)\n",
            "/usr/local/lib/python3.6/dist-packages/sklearn/utils/deprecation.py:87: FutureWarning: Function safe_indexing is deprecated; safe_indexing is deprecated in version 0.22 and will be removed in version 0.24.\n",
            "  warnings.warn(msg, category=FutureWarning)\n",
            "/usr/local/lib/python3.6/dist-packages/sklearn/utils/deprecation.py:87: FutureWarning: Function safe_indexing is deprecated; safe_indexing is deprecated in version 0.22 and will be removed in version 0.24.\n",
            "  warnings.warn(msg, category=FutureWarning)\n",
            "/usr/local/lib/python3.6/dist-packages/sklearn/utils/deprecation.py:87: FutureWarning: Function safe_indexing is deprecated; safe_indexing is deprecated in version 0.22 and will be removed in version 0.24.\n",
            "  warnings.warn(msg, category=FutureWarning)\n",
            "/usr/local/lib/python3.6/dist-packages/sklearn/utils/deprecation.py:87: FutureWarning: Function safe_indexing is deprecated; safe_indexing is deprecated in version 0.22 and will be removed in version 0.24.\n",
            "  warnings.warn(msg, category=FutureWarning)\n"
          ],
          "name": "stderr"
        },
        {
          "output_type": "stream",
          "text": [
            "time: 1.61 s\n"
          ],
          "name": "stdout"
        }
      ]
    },
    {
      "cell_type": "code",
      "metadata": {
        "id": "40l3254L99AT",
        "colab_type": "code",
        "outputId": "23b014d3-ca3b-4272-cdcc-7b0c27919503",
        "colab": {
          "base_uri": "https://localhost:8080/",
          "height": 34
        }
      },
      "source": [
        "# Splitting the SMOTE data \n",
        "X_50_train_smote, X_50_test_smote, Y_50_train_smote, Y_50_test_smote = train_test_split(fiftyto_1xSMOTE, fiftyto_1ySMOTE, test_size = 0.2)\n",
        "X_100_train_smote, X_100_test_smote, Y_100_train_smote, Y_100_test_smote = train_test_split(hundredto_1xSMOTE, hundredto_1ySMOTE, test_size = 0.2)\n",
        "X_1000_train_smote, X_1000_test_smote, Y_1000_train_smote, Y_1000_test_smote = train_test_split(thousandto_1xSMOTE, thousandto_1ySMOTE, test_size = 0.2)"
      ],
      "execution_count": 0,
      "outputs": [
        {
          "output_type": "stream",
          "text": [
            "time: 65.5 ms\n"
          ],
          "name": "stdout"
        }
      ]
    },
    {
      "cell_type": "code",
      "metadata": {
        "id": "DLGxsFuAChXT",
        "colab_type": "code",
        "outputId": "b1e9730a-283c-418a-e3ec-edeee00c95cc",
        "colab": {
          "base_uri": "https://localhost:8080/",
          "height": 34
        }
      },
      "source": [
        "#Creating simple SVMs based on SMOTE data\n",
        "svm_50_smote = svm.SVC(kernel = 'linear')\n",
        "svm_100_smote = svm.SVC(kernel= 'linear')\n",
        "svm_1000_smote = svm.SVC(kernel = 'linear')"
      ],
      "execution_count": 0,
      "outputs": [
        {
          "output_type": "stream",
          "text": [
            "time: 1.87 ms\n"
          ],
          "name": "stdout"
        }
      ]
    },
    {
      "cell_type": "code",
      "metadata": {
        "id": "v7b8ZTrOC2-S",
        "colab_type": "code",
        "outputId": "997343d7-edb5-4b65-ff9e-8400659f9835",
        "colab": {
          "base_uri": "https://localhost:8080/",
          "height": 85
        }
      },
      "source": [
        "# Fitting SVM to the smote training data\n",
        "svm_50_smote.fit(X_50_train_smote, Y_50_train_smote)\n",
        "svm_100_smote.fit(X_100_train_smote, Y_100_train_smote)\n",
        "svm_1000_smote.fit(X_1000_train_smote, Y_1000_train_smote)"
      ],
      "execution_count": 0,
      "outputs": [
        {
          "output_type": "execute_result",
          "data": {
            "text/plain": [
              "SVC(C=1.0, break_ties=False, cache_size=200, class_weight=None, coef0=0.0,\n",
              "    decision_function_shape='ovr', degree=3, gamma='scale', kernel='linear',\n",
              "    max_iter=-1, probability=False, random_state=None, shrinking=True,\n",
              "    tol=0.001, verbose=False)"
            ]
          },
          "metadata": {
            "tags": []
          },
          "execution_count": 22
        },
        {
          "output_type": "stream",
          "text": [
            "time: 18min 47s\n"
          ],
          "name": "stdout"
        }
      ]
    },
    {
      "cell_type": "code",
      "metadata": {
        "id": "Ly0_X3QdDA_Z",
        "colab_type": "code",
        "outputId": "dc4b531c-a974-4d8d-8a5d-05af97940682",
        "colab": {
          "base_uri": "https://localhost:8080/",
          "height": 34
        }
      },
      "source": [
        "# Predicting SVM classifiers based on smote data\n",
        "Y_50_smote_predict = svm_50_smote.predict(X_50_test_smote)\n",
        "Y_100_smote_predict = svm_100_smote.predict(X_100_test_smote)\n",
        "Y_1000_smote_predict = svm_1000_smote.predict(X_1000_test_smote)"
      ],
      "execution_count": 0,
      "outputs": [
        {
          "output_type": "stream",
          "text": [
            "time: 1min 39s\n"
          ],
          "name": "stdout"
        }
      ]
    },
    {
      "cell_type": "code",
      "metadata": {
        "id": "DV9x8cpmHAir",
        "colab_type": "code",
        "outputId": "329dbd56-5328-4266-eec6-54b053f97435",
        "colab": {
          "base_uri": "https://localhost:8080/"
        }
      },
      "source": [
        "# Comparing smote predict with test \n",
        "print(\"Balanced accuracy of 50:1 SMOTE model is\", metrics.balanced_accuracy_score(Y_50_test_smote, Y_50_smote_predict))\n",
        "print(\"F-score of 50:1 SMOTE model is\", metrics.f1_score(Y_50_test_smote, Y_50_smote_predict))\n",
        "print(\"Balanced accuracy of 100:1 SMOTE model is\", metrics.balanced_accuracy_score(Y_100_test_smote, Y_100_smote_predict))\n",
        "print(\"F-score of 100:1 SMOTE model is\", metrics.f1_score(Y_100_test_smote, Y_100_smote_predict))\n",
        "print(\"Balanced accuracy of 1000:1 SMOTE model is\", metrics.balanced_accuracy_score(Y_1000_test_smote, Y_1000_smote_predict))\n",
        "print(\"F-score of 1000:1 SMOTE model is\", metrics.f1_score(Y_1000_test_smote, Y_1000_smote_predict))"
      ],
      "execution_count": 0,
      "outputs": [
        {
          "output_type": "stream",
          "text": [
            "Balanced accuracy of 50:1 SMOTE model is 0.9053130422058437\n",
            "F-score of 50:1 SMOTE model is 0.9112218131061537\n",
            "Balanced accuracy of 100:1 SMOTE model is 0.5050898355983102\n",
            "F-score of 100:1 SMOTE model is 0.020154179472968207\n",
            "Balanced accuracy of 1000:1 SMOTE model is 0.68269747194234\n",
            "F-score of 1000:1 SMOTE model is 0.6580271630323035\n",
            "time: 174 ms\n"
          ],
          "name": "stdout"
        }
      ]
    },
    {
      "cell_type": "code",
      "metadata": {
        "id": "5eKHdXBsHWXf",
        "colab_type": "code",
        "outputId": "c9f5562b-bd05-4f09-9595-937917d9f883",
        "colab": {
          "base_uri": "https://localhost:8080/",
          "height": 328
        }
      },
      "source": [
        "fig, (ax1, ax2) = plt.subplots(1,2)\n",
        "colors1 = ['orange','blue']\n",
        "ax1.scatter(fiftyto1_x[:,0], fiftyto1_x[:,1], marker = 'o', c = fiftyto1_y, cmap=matplotlib.colors.ListedColormap(colors1))\n",
        "ax2.scatter(fiftyto_1xSMOTE[:,0], fiftyto_1xSMOTE[:,1], marker = 'o', c = fiftyto_1ySMOTE, cmap=matplotlib.colors.ListedColormap(colors1))\n",
        "plt.suptitle('50:1 imbalance scenario before and after borderline-SMOTE')\n",
        "\n"
      ],
      "execution_count": 0,
      "outputs": [
        {
          "output_type": "execute_result",
          "data": {
            "text/plain": [
              "Text(0.5, 0.98, '50:1 imbalance scenario before and after borderline-SMOTE')"
            ]
          },
          "metadata": {
            "tags": []
          },
          "execution_count": 25
        },
        {
          "output_type": "display_data",
          "data": {
            "image/png": "[encoded data removed]",
            "text/plain": [
              "<Figure size 432x288 with 2 Axes>"
            ]
          },
          "metadata": {
            "tags": []
          }
        },
        {
          "output_type": "stream",
          "text": [
            "time: 11.4 s\n"
          ],
          "name": "stdout"
        }
      ]
    },
    {
      "cell_type": "code",
      "metadata": {
        "id": "w-PGeVFOQEip",
        "colab_type": "code",
        "outputId": "9bfcf849-c2dc-4113-ac6d-6f61e402380f",
        "colab": {
          "base_uri": "https://localhost:8080/",
          "height": 328
        }
      },
      "source": [
        "fig, (ax1, ax2) = plt.subplots(1,2)\n",
        "colors1 = ['orange','blue']\n",
        "ax1.scatter(hundredto1_x[:,0], hundredto1_x[:,1], marker = 'o', c = hundredto1_y, cmap=matplotlib.colors.ListedColormap(colors1))\n",
        "ax2.scatter(hundredto_1xSMOTE[:,0], hundredto_1xSMOTE[:,1], marker = 'o', c = hundredto_1ySMOTE, cmap=matplotlib.colors.ListedColormap(colors1))\n",
        "plt.suptitle('100:1 imbalance scenario before and after borderline-SMOTE')\n",
        "\n"
      ],
      "execution_count": 0,
      "outputs": [
        {
          "output_type": "execute_result",
          "data": {
            "text/plain": [
              "Text(0.5, 0.98, '100:1 imbalance scenario before and after borderline-SMOTE')"
            ]
          },
          "metadata": {
            "tags": []
          },
          "execution_count": 26
        },
        {
          "output_type": "display_data",
          "data": {
            "image/png": "[encoded data removed]",
            "text/plain": [
              "<Figure size 432x288 with 2 Axes>"
            ]
          },
          "metadata": {
            "tags": []
          }
        },
        {
          "output_type": "stream",
          "text": [
            "time: 11.5 s\n"
          ],
          "name": "stdout"
        }
      ]
    },
    {
      "cell_type": "code",
      "metadata": {
        "id": "IcyFZizWTOco",
        "colab_type": "code",
        "outputId": "174f8ea9-2f48-4df2-b2d8-61fa4d1f93af",
        "colab": {
          "base_uri": "https://localhost:8080/",
          "height": 328
        }
      },
      "source": [
        "fig, (ax1, ax2) = plt.subplots(1,2, sharex = True, sharey = True)\n",
        "colors1 = ['orange','blue']\n",
        "ax1.xlabel = 'Feature 1'\n",
        "ax1.ylabel = 'Feature 2'\n",
        "ax1.scatter(thousandto1_x[:,0], thousandto1_x[:,1], marker = 'o', c = thousandto1_y, cmap=matplotlib.colors.ListedColormap(colors1))\n",
        "ax2.scatter(thousandto_1xSMOTE[:,0], thousandto_1xSMOTE[:,1], marker = 'o', c = thousandto_1ySMOTE, cmap=matplotlib.colors.ListedColormap(colors1))\n",
        "plt.suptitle('1000:1 imbalance scenario before and after borderline-SMOTE')\n",
        "\n"
      ],
      "execution_count": 0,
      "outputs": [
        {
          "output_type": "execute_result",
          "data": {
            "text/plain": [
              "Text(0.5, 0.98, '1000:1 imbalance scenario before and after borderline-SMOTE')"
            ]
          },
          "metadata": {
            "tags": []
          },
          "execution_count": 27
        },
        {
          "output_type": "display_data",
          "data": {
            "image/png": "[encoded data removed]",
            "text/plain": [
              "<Figure size 432x288 with 2 Axes>"
            ]
          },
          "metadata": {
            "tags": []
          }
        },
        {
          "output_type": "stream",
          "text": [
            "time: 11.6 s\n"
          ],
          "name": "stdout"
        }
      ]
    },
    {
      "cell_type": "code",
      "metadata": {
        "id": "4XdlmkEdaCUW",
        "colab_type": "code",
        "colab": {}
      },
      "source": [
        ""
      ],
      "execution_count": 0,
      "outputs": []
    }
  ]
}